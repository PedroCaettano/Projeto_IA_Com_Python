# Passo a passo
# Passo 0: Entender o desafio da empresa e da sua área
# Passo 1: Importar a base de dados
# Passo 2: Preparar a base de dados para a inteligência artificial
# Passo 3: Criar um modelo de IA
# Passo 4: Escolher o delhor modelo entre ela

#PASSO1:
import pandas as pd
tabela = pd.read_csv("clientes.csv")
display(tabela)
display(tabela.info())

#padrões:
#good - boa
#standard - média
#poor - ruim


#float - numeros com casa decimal
#int - numeros inteiros
#object - texto

#PASSO2:
# Vamos preparar a base de dados para o nosso sistema operacional
# A IA só aprende com informações numéricas 

#colunas que vamos trabalhar
#Profissão
#Mix_Crédito
#Comportamento_Pagamento


#PROFISSÃO:
# Aplicando com Label Encoder (Fórmula)
#cientista - 1
#mecanico - 2
#ator - 3
#engenheiro - 4
#medico - 5
#farmaceutico - 6

from sklearn.preprocessing import LabelEncoder
codificador = LabelEncoder()
tabela["profissao"] = codificador.fit_transform(tabela["profissao"])
tabela["mix_credito"] = codificador.fit_transform(tabela["mix_credito"])
tabela["comportamento_pagamento"] = codificador.fit_transform(tabela["comportamento_pagamento"])

display(tabela.info())

x = tabela.drop(colums=["score_cedito", "id_cliente"])
y = tabela["score_credito"]

from sklearn.model_selection import train_test_split
x_treino, x_teste, y_treino, y_teste = train_test_split(x,y, test_size=0.3)

#PASSO3:
#Modelos de IA que vou trabalhar:
#1: ARVORE DE DECISÃO -> RANDOMFOREST
#2: NEIREST NEIGHBORS - K.N.N.: VIZINHOS PRÓXIMOS

#Passos para quando for desenvolver uma IA
#1:Importar a IA
#2:Criar a IA
#3:Treinar a IA

from sklearn.ensemble import RandomForestClassifier
from sklearn.ensemble import KNeighborsClassifier

modelo_arvoredecisao = RandomForestClassifier()
modelo_knn = KNeighborsClassifier()

modelo_arvoredecisao.fit(x_treino, y_treino)
modelo_knn.fit(x_treino, y_treino)

# recomendação: Kaggle -> Ajuda com base de dados para colocarmos em códigos, caso quisermos

#PASSO4:
previsao_arvoredecisao = modelo_arvoredecisao.predict(x,teste)
previsao_knn = modelo_knn.predict(x_teste)

from sklearn.metrics import acurracy_score
display(acurracy_score(y_teste, previsao_arvoredecisao))
display(acurracy_score(Y_teste, previsão_knn))

#PASSO5:
#Conclusão: O modelo previsao_arvoredecisao é a mais adequada para o projeto

tabela_novos_clients = pd.read_csv("novos clientes")
tabela["profissao"] = codificador.fit_transform(tabela["profissao"])
tabela["mix_credito"] = codificador.fit_transform(tabela["mix_credito"])
tabela["comportamento_pagamento"] = codificador.fit_transform(tabela["comportamento_pagamento"])

previsoes = modelo_arvoredecisao.predict(tabela_novos_clients)
display(previsoes)

# fazendo novas previsões
novos_clientes = pd.read_csv("novos_clientes.csv")
display(novos_clientes)
for coluna in novos_clientes.columns:
    if novos_clientes[coluna].dtype == "object" and coluna != "score_credito":
        novos_clientes[coluna] = codificador.fit_transform(novos_clientes[coluna])

previsoes = modelo_arvore.predict(novos_clientes)
print(previsoes)

# quais as caracteristicas mais importantes para definir o score de credito?
colunas = list(x_teste.columns)
importancia = pd.DataFrame(index=colunas, data=modelo_arvore.feature_importances_)
importancia = importancia * 100
print(importancia)

